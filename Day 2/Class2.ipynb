{
 "cells": [
  {
   "cell_type": "markdown",
   "metadata": {},
   "source": [
    "### NUMPY "
   ]
  },
  {
   "cell_type": "code",
   "execution_count": 75,
   "metadata": {},
   "outputs": [
    {
     "data": {
      "text/plain": [
       "[2, 3, 4, 3, 5, 6]"
      ]
     },
     "execution_count": 75,
     "metadata": {},
     "output_type": "execute_result"
    }
   ],
   "source": [
    "list1 =[2,3,4]\n",
    "list2 =[3,5,6]\n",
    "list1+list2"
   ]
  },
  {
   "cell_type": "code",
   "execution_count": 38,
   "metadata": {},
   "outputs": [
    {
     "name": "stdout",
     "output_type": "stream",
     "text": [
      "(2, 3)\n"
     ]
    },
    {
     "data": {
      "text/plain": [
       "array([[ 3,  5,  7],\n",
       "       [ 9, 11, 13]])"
      ]
     },
     "execution_count": 38,
     "metadata": {},
     "output_type": "execute_result"
    }
   ],
   "source": [
    "import numpy as np\n",
    "array1 = np.array([[2,3,4]])\n",
    "array2 = np.array([7,9,10])\n",
    "#1 2 3 + 2 3 4\n",
    "#7 8 9 + 6 4 3\n",
    "array_2d = np.array([[1,2,3],[7,8,9]])\n",
    "#1 7 \n",
    "#2 8 \n",
    "#3 9  \n",
    "print(array_2d.shape)\n",
    "array1 +array2\n",
    "array1+array_2d"
   ]
  },
  {
   "cell_type": "code",
   "execution_count": 39,
   "metadata": {},
   "outputs": [
    {
     "name": "stdout",
     "output_type": "stream",
     "text": [
      "[[ 2  6 12]\n",
      " [14 24 36]]\n",
      "[[ 2  6 12]\n",
      " [14 24 36]]\n",
      "[[20 74]]\n",
      "(1, 3)\n",
      "(3, 2)\n"
     ]
    }
   ],
   "source": [
    "print(array1 * array_2d)\n",
    "print(np.multiply(array1,array_2d))\n",
    "array_2d = array_2d.T\n",
    "print(np.dot(array1,array_2d))\n",
    "print(array1.shape)\n",
    "print(array_2d.shape)"
   ]
  },
  {
   "cell_type": "code",
   "execution_count": 40,
   "metadata": {},
   "outputs": [
    {
     "data": {
      "text/plain": [
       "numpy.ndarray"
      ]
     },
     "execution_count": 40,
     "metadata": {},
     "output_type": "execute_result"
    }
   ],
   "source": [
    "type(array1)"
   ]
  },
  {
   "cell_type": "code",
   "execution_count": 42,
   "metadata": {},
   "outputs": [
    {
     "data": {
      "text/plain": [
       "array([[8, 6]])"
      ]
     },
     "execution_count": 42,
     "metadata": {},
     "output_type": "execute_result"
    }
   ],
   "source": [
    "array1 = np.array([[2,3,4]])\n",
    "array2 = np.array([[7,9,10],[9,8,6]])\n",
    "np.add(array1,array2)\n",
    "array2[1:,1:]"
   ]
  },
  {
   "cell_type": "markdown",
   "metadata": {},
   "source": [
    "### Numpy Matrix Formation"
   ]
  },
  {
   "cell_type": "code",
   "execution_count": 43,
   "metadata": {},
   "outputs": [
    {
     "data": {
      "text/plain": [
       "array([[1., 1., 1., 1.],\n",
       "       [1., 1., 1., 1.],\n",
       "       [1., 1., 1., 1.],\n",
       "       [1., 1., 1., 1.]])"
      ]
     },
     "execution_count": 43,
     "metadata": {},
     "output_type": "execute_result"
    }
   ],
   "source": [
    "# 1 1 1 1\n",
    "# 1 1 1 1\n",
    "# 1 1 1 1\n",
    "# 1 1 1 1\n",
    "np.ones((4,4))"
   ]
  },
  {
   "cell_type": "code",
   "execution_count": 44,
   "metadata": {},
   "outputs": [
    {
     "data": {
      "text/plain": [
       "array([[0., 0., 0., 0.],\n",
       "       [0., 0., 0., 0.],\n",
       "       [0., 0., 0., 0.],\n",
       "       [0., 0., 0., 0.]])"
      ]
     },
     "execution_count": 44,
     "metadata": {},
     "output_type": "execute_result"
    }
   ],
   "source": [
    "np.zeros((4,4))"
   ]
  },
  {
   "cell_type": "code",
   "execution_count": 48,
   "metadata": {},
   "outputs": [
    {
     "data": {
      "text/plain": [
       "array([[1., 0., 0., 0.],\n",
       "       [0., 1., 0., 0.],\n",
       "       [0., 0., 1., 0.],\n",
       "       [0., 0., 0., 1.]])"
      ]
     },
     "execution_count": 48,
     "metadata": {},
     "output_type": "execute_result"
    }
   ],
   "source": [
    "np.eye(4,4)"
   ]
  },
  {
   "cell_type": "code",
   "execution_count": 52,
   "metadata": {},
   "outputs": [
    {
     "name": "stdout",
     "output_type": "stream",
     "text": [
      "34\n"
     ]
    },
    {
     "data": {
      "text/plain": [
       "array([['34', '34'],\n",
       "       ['34', '34']], dtype='<U2')"
      ]
     },
     "execution_count": 52,
     "metadata": {},
     "output_type": "execute_result"
    }
   ],
   "source": [
    "num = input()\n",
    "np.full((2,2),num)"
   ]
  },
  {
   "cell_type": "code",
   "execution_count": 57,
   "metadata": {},
   "outputs": [
    {
     "data": {
      "text/plain": [
       "array([ 1,  7, 13, 19, 25, 31, 37, 43, 49])"
      ]
     },
     "execution_count": 57,
     "metadata": {},
     "output_type": "execute_result"
    }
   ],
   "source": [
    "np.arange(1,50,6)\n"
   ]
  },
  {
   "cell_type": "code",
   "execution_count": 59,
   "metadata": {},
   "outputs": [
    {
     "data": {
      "text/plain": [
       "5.0"
      ]
     },
     "execution_count": 59,
     "metadata": {},
     "output_type": "execute_result"
    }
   ],
   "source": [
    "np.sqrt(25)"
   ]
  },
  {
   "cell_type": "code",
   "execution_count": 77,
   "metadata": {},
   "outputs": [
    {
     "name": "stdout",
     "output_type": "stream",
     "text": [
      "15625.0\n"
     ]
    }
   ],
   "source": [
    "import math as mp\n",
    "power = mp.pow(5,6)\n",
    "print(power)"
   ]
  },
  {
   "cell_type": "code",
   "execution_count": 78,
   "metadata": {},
   "outputs": [
    {
     "data": {
      "text/plain": [
       "array([[11, 10,  9,  8,  4],\n",
       "       [ 7,  6,  2, 10,  4],\n",
       "       [ 5,  9,  2, 12, 13],\n",
       "       [11,  5,  1, 14,  4],\n",
       "       [10,  3,  1,  5, 10]])"
      ]
     },
     "execution_count": 78,
     "metadata": {},
     "output_type": "execute_result"
    }
   ],
   "source": [
    "np.random.randint(1,15,size = (5,5))"
   ]
  },
  {
   "cell_type": "code",
   "execution_count": 79,
   "metadata": {},
   "outputs": [
    {
     "name": "stdout",
     "output_type": "stream",
     "text": [
      "[[ 6  7]\n",
      " [12 14]\n",
      " [18 21]\n",
      " [24 28]\n",
      " [30 35]\n",
      " [36 42]]\n"
     ]
    }
   ],
   "source": [
    "a = np.array([[1,2,3],[4,5,6]]) # 2*3\n",
    "b = np.array([[6,7]])  # 1*2\n",
    "a = a.reshape((6,1)) # Number of elements should be always kept same\n",
    "print(np.dot(a,b))"
   ]
  },
  {
   "cell_type": "markdown",
   "metadata": {},
   "source": [
    "### Pandas\n"
   ]
  },
  {
   "cell_type": "code",
   "execution_count": 110,
   "metadata": {},
   "outputs": [
    {
     "data": {
      "text/html": [
       "<div>\n",
       "<style scoped>\n",
       "    .dataframe tbody tr th:only-of-type {\n",
       "        vertical-align: middle;\n",
       "    }\n",
       "\n",
       "    .dataframe tbody tr th {\n",
       "        vertical-align: top;\n",
       "    }\n",
       "\n",
       "    .dataframe thead th {\n",
       "        text-align: right;\n",
       "    }\n",
       "</style>\n",
       "<table border=\"1\" class=\"dataframe\">\n",
       "  <thead>\n",
       "    <tr style=\"text-align: right;\">\n",
       "      <th></th>\n",
       "      <th>values</th>\n",
       "    </tr>\n",
       "  </thead>\n",
       "  <tbody>\n",
       "    <tr>\n",
       "      <th>1</th>\n",
       "      <td>Alisha</td>\n",
       "    </tr>\n",
       "    <tr>\n",
       "      <th>2</th>\n",
       "      <td>Sampat</td>\n",
       "    </tr>\n",
       "    <tr>\n",
       "      <th>3</th>\n",
       "      <td>Arka</td>\n",
       "    </tr>\n",
       "    <tr>\n",
       "      <th>4</th>\n",
       "      <td>Aaushi</td>\n",
       "    </tr>\n",
       "    <tr>\n",
       "      <th>5</th>\n",
       "      <td>Kapil</td>\n",
       "    </tr>\n",
       "    <tr>\n",
       "      <th>6</th>\n",
       "      <td>Ananandhi</td>\n",
       "    </tr>\n",
       "  </tbody>\n",
       "</table>\n",
       "</div>"
      ],
      "text/plain": [
       "      values\n",
       "1     Alisha\n",
       "2     Sampat\n",
       "3       Arka\n",
       "4     Aaushi\n",
       "5      Kapil\n",
       "6  Ananandhi"
      ]
     },
     "execution_count": 110,
     "metadata": {},
     "output_type": "execute_result"
    }
   ],
   "source": [
    "import pandas as pd\n",
    "example = pd.DataFrame([\"Alisha\",\"Sampat\",\"Arka\",\"Aaushi\",\"Kapil\",\"Ananandhi\"],index =[1,2,3,4,5,6],columns =[\"values\"])\n",
    "example"
   ]
  },
  {
   "cell_type": "code",
   "execution_count": 83,
   "metadata": {},
   "outputs": [
    {
     "name": "stderr",
     "output_type": "stream",
     "text": [
      "'wget' is not recognized as an internal or external command,\n",
      "operable program or batch file.\n"
     ]
    }
   ],
   "source": [
    "!wget https://www.dropbox.com/s/ogg0uy4jijp5ryt/housing.csv"
   ]
  },
  {
   "cell_type": "code",
   "execution_count": 86,
   "metadata": {},
   "outputs": [
    {
     "name": "stdout",
     "output_type": "stream",
     "text": [
      "          longitude      latitude  housing_median_age   total_rooms  \\\n",
      "count  20640.000000  20640.000000        20640.000000  20640.000000   \n",
      "mean    -119.569704     35.631861           28.639486   2635.763081   \n",
      "std        2.003532      2.135952           12.585558   2181.615252   \n",
      "min     -124.350000     32.540000            1.000000      2.000000   \n",
      "25%     -121.800000     33.930000           18.000000   1447.750000   \n",
      "50%     -118.490000     34.260000           29.000000   2127.000000   \n",
      "75%     -118.010000     37.710000           37.000000   3148.000000   \n",
      "max     -114.310000     41.950000           52.000000  39320.000000   \n",
      "\n",
      "       total_bedrooms    population    households  median_income  \\\n",
      "count    20433.000000  20640.000000  20640.000000   20640.000000   \n",
      "mean       537.870553   1425.476744    499.539680       3.870671   \n",
      "std        421.385070   1132.462122    382.329753       1.899822   \n",
      "min          1.000000      3.000000      1.000000       0.499900   \n",
      "25%        296.000000    787.000000    280.000000       2.563400   \n",
      "50%        435.000000   1166.000000    409.000000       3.534800   \n",
      "75%        647.000000   1725.000000    605.000000       4.743250   \n",
      "max       6445.000000  35682.000000   6082.000000      15.000100   \n",
      "\n",
      "       median_house_value  \n",
      "count        20640.000000  \n",
      "mean        206855.816909  \n",
      "std         115395.615874  \n",
      "min          14999.000000  \n",
      "25%         119600.000000  \n",
      "50%         179700.000000  \n",
      "75%         264725.000000  \n",
      "max         500001.000000  \n",
      "<class 'pandas.core.frame.DataFrame'>\n",
      "RangeIndex: 20640 entries, 0 to 20639\n",
      "Data columns (total 10 columns):\n",
      " #   Column              Non-Null Count  Dtype  \n",
      "---  ------              --------------  -----  \n",
      " 0   longitude           20640 non-null  float64\n",
      " 1   latitude            20640 non-null  float64\n",
      " 2   housing_median_age  20640 non-null  float64\n",
      " 3   total_rooms         20640 non-null  float64\n",
      " 4   total_bedrooms      20433 non-null  float64\n",
      " 5   population          20640 non-null  float64\n",
      " 6   households          20640 non-null  float64\n",
      " 7   median_income       20640 non-null  float64\n",
      " 8   median_house_value  20640 non-null  float64\n",
      " 9   ocean_proximity     20640 non-null  object \n",
      "dtypes: float64(9), object(1)\n",
      "memory usage: 1.6+ MB\n",
      "None\n"
     ]
    }
   ],
   "source": [
    "data = pd.read_csv('housing.csv')\n",
    "print(data.describe())\n",
    "print(data.info())"
   ]
  },
  {
   "cell_type": "code",
   "execution_count": 88,
   "metadata": {},
   "outputs": [
    {
     "name": "stdout",
     "output_type": "stream",
     "text": [
      "   longitude  latitude  housing_median_age  total_rooms  total_bedrooms  \\\n",
      "0    -122.23     37.88                41.0        880.0           129.0   \n",
      "1    -122.22     37.86                21.0       7099.0          1106.0   \n",
      "2    -122.24     37.85                52.0       1467.0           190.0   \n",
      "3    -122.25     37.85                52.0       1274.0           235.0   \n",
      "4    -122.25     37.85                52.0       1627.0           280.0   \n",
      "\n",
      "   population  households  median_income  median_house_value ocean_proximity  \n",
      "0       322.0       126.0         8.3252            452600.0        NEAR BAY  \n",
      "1      2401.0      1138.0         8.3014            358500.0        NEAR BAY  \n",
      "2       496.0       177.0         7.2574            352100.0        NEAR BAY  \n",
      "3       558.0       219.0         5.6431            341300.0        NEAR BAY  \n",
      "4       565.0       259.0         3.8462            342200.0        NEAR BAY  \n"
     ]
    }
   ],
   "source": [
    "print(data.head())"
   ]
  },
  {
   "cell_type": "code",
   "execution_count": 93,
   "metadata": {},
   "outputs": [
    {
     "name": "stdout",
     "output_type": "stream",
     "text": [
      "['longitude' 'latitude' 'housing_median_age' 'total_rooms'\n",
      " 'total_bedrooms' 'population' 'households' 'median_income'\n",
      " 'median_house_value' 'ocean_proximity']\n",
      "number of columns 10\n"
     ]
    }
   ],
   "source": [
    "list1 =data.columns.values\n",
    "print(list1)\n",
    "num = len(data.columns)\n",
    "print(\"number of columns\" , num)"
   ]
  },
  {
   "cell_type": "code",
   "execution_count": 94,
   "metadata": {},
   "outputs": [
    {
     "name": "stdout",
     "output_type": "stream",
     "text": [
      "0     322.0\n",
      "1    2401.0\n",
      "2     496.0\n",
      "3     558.0\n",
      "4     565.0\n",
      "Name: population, dtype: float64\n"
     ]
    }
   ],
   "source": [
    "new_data = data['population']\n",
    "print(new_data.head())"
   ]
  },
  {
   "cell_type": "code",
   "execution_count": 104,
   "metadata": {},
   "outputs": [
    {
     "name": "stdout",
     "output_type": "stream",
     "text": [
      "['longitude' 'latitude' 'housing_median_age' 'total_rooms'\n",
      " 'total_bedrooms' 'pop' 'households' 'median_income' 'median_house_value'\n",
      " 'ocean_proximity']\n"
     ]
    }
   ],
   "source": [
    "data.rename(columns = {'population' : 'pop'},inplace = True)\n",
    "print(data.columns.values)"
   ]
  },
  {
   "cell_type": "code",
   "execution_count": 105,
   "metadata": {},
   "outputs": [
    {
     "name": "stdout",
     "output_type": "stream",
     "text": [
      "   longitude  latitude  housing_median_age  total_rooms  total_bedrooms  \\\n",
      "0       0.00     37.88                41.0        880.0           129.0   \n",
      "1    -122.22     37.86                21.0       7099.0          1106.0   \n",
      "2    -122.24     37.85                52.0       1467.0           190.0   \n",
      "3    -122.25     37.85                52.0       1274.0           235.0   \n",
      "4    -122.25     37.85                52.0       1627.0           280.0   \n",
      "\n",
      "      pop  households  median_income  median_house_value ocean_proximity  \n",
      "0   322.0       126.0         8.3252            452600.0        NEAR BAY  \n",
      "1  2401.0      1138.0         8.3014            358500.0        NEAR BAY  \n",
      "2   496.0       177.0         7.2574            352100.0        NEAR BAY  \n",
      "3   558.0       219.0         5.6431            341300.0        NEAR BAY  \n",
      "4   565.0       259.0         3.8462            342200.0        NEAR BAY  \n"
     ]
    }
   ],
   "source": [
    "data.loc[0,'longitude'] = 0\n",
    "print(data.head())"
   ]
  },
  {
   "cell_type": "code",
   "execution_count": 106,
   "metadata": {},
   "outputs": [
    {
     "name": "stdout",
     "output_type": "stream",
     "text": [
      "['longitude' 'latitude' 'housing_median_age' 'total_rooms'\n",
      " 'total_bedrooms' 'population' 'households' 'median_income'\n",
      " 'median_house_value' 'ocean_proximity']\n"
     ]
    }
   ],
   "source": [
    "data.rename(columns = {'pop' : 'population'},inplace = True)\n",
    "print(data.columns.values)"
   ]
  },
  {
   "cell_type": "code",
   "execution_count": 107,
   "metadata": {},
   "outputs": [
    {
     "name": "stdout",
     "output_type": "stream",
     "text": [
      "0      0.00\n",
      "1   -122.22\n",
      "2   -122.24\n",
      "3   -122.25\n",
      "4   -122.25\n",
      "Name: longitude, dtype: float64\n"
     ]
    }
   ],
   "source": [
    "series = data['longitude']\n",
    "print(series.head())"
   ]
  },
  {
   "cell_type": "code",
   "execution_count": 111,
   "metadata": {},
   "outputs": [
    {
     "name": "stdout",
     "output_type": "stream",
     "text": [
      "['NEAR BAY' '<1H OCEAN' 'INLAND' 'NEAR OCEAN' 'ISLAND']\n"
     ]
    }
   ],
   "source": [
    "unique_values = data['ocean_proximity'].unique()\n",
    "print(unique_values)"
   ]
  },
  {
   "cell_type": "code",
   "execution_count": 120,
   "metadata": {},
   "outputs": [
    {
     "name": "stdout",
     "output_type": "stream",
     "text": [
      "      longitude  latitude  housing_median_age  total_rooms  total_bedrooms  \\\n",
      "8314    -118.32     33.35                27.0       1675.0           521.0   \n",
      "8315    -118.33     33.34                52.0       2359.0           591.0   \n",
      "8316    -118.32     33.33                52.0       2127.0           512.0   \n",
      "8317    -118.32     33.34                52.0        996.0           264.0   \n",
      "8318    -118.48     33.43                29.0        716.0           214.0   \n",
      "\n",
      "      population  households  median_income  median_house_value  \\\n",
      "8314       744.0       331.0    215790000.0            450000.0   \n",
      "8315      1100.0       431.0    283330000.0            414700.0   \n",
      "8316       733.0       288.0    339060000.0            300000.0   \n",
      "8317       341.0       160.0    273610000.0            450000.0   \n",
      "8318       422.0       173.0    260420000.0            287500.0   \n",
      "\n",
      "     ocean_proximity  \n",
      "8314          ISLAND  \n",
      "8315          ISLAND  \n",
      "8316          ISLAND  \n",
      "8317          ISLAND  \n",
      "8318          ISLAND  \n"
     ]
    }
   ],
   "source": [
    "filtered_data = data['ocean_proximity'] == 'ISLAND'\n",
    "results = data[filtered_data]\n",
    "print(results.head())"
   ]
  },
  {
   "cell_type": "code",
   "execution_count": 118,
   "metadata": {},
   "outputs": [
    {
     "name": "stdout",
     "output_type": "stream",
     "text": [
      "0    832520000.0\n",
      "1    830140000.0\n",
      "2    725740000.0\n",
      "3    564310000.0\n",
      "4    384620000.0\n",
      "Name: median_income, dtype: float64\n",
      "   longitude  latitude  housing_median_age  total_rooms  total_bedrooms  \\\n",
      "0       0.00     37.88                41.0        880.0           129.0   \n",
      "1    -122.22     37.86                21.0       7099.0          1106.0   \n",
      "2    -122.24     37.85                52.0       1467.0           190.0   \n",
      "3    -122.25     37.85                52.0       1274.0           235.0   \n",
      "4    -122.25     37.85                52.0       1627.0           280.0   \n",
      "\n",
      "   population  households  median_income  median_house_value ocean_proximity  \n",
      "0       322.0       126.0    832520000.0            452600.0        NEAR BAY  \n",
      "1      2401.0      1138.0    830140000.0            358500.0        NEAR BAY  \n",
      "2       496.0       177.0    725740000.0            352100.0        NEAR BAY  \n",
      "3       558.0       219.0    564310000.0            341300.0        NEAR BAY  \n",
      "4       565.0       259.0    384620000.0            342200.0        NEAR BAY  \n"
     ]
    }
   ],
   "source": [
    "def convert(value):\n",
    "    return value *10000\n",
    "converted_data = data['median_income'].apply(convert)\n",
    "print(converted_data.head())\n",
    "data['median_income'] = converted_data\n",
    "print(data.head())"
   ]
  },
  {
   "cell_type": "code",
   "execution_count": 124,
   "metadata": {},
   "outputs": [
    {
     "name": "stdout",
     "output_type": "stream",
     "text": [
      "0    83252.0\n",
      "1    83014.0\n",
      "2    72574.0\n",
      "3    56431.0\n",
      "4    38462.0\n",
      "Name: median_income, dtype: float64\n",
      "   longitude  latitude  housing_median_age  total_rooms  total_bedrooms  \\\n",
      "0       0.00     37.88                41.0        880.0           129.0   \n",
      "1    -122.22     37.86                21.0       7099.0          1106.0   \n",
      "2    -122.24     37.85                52.0       1467.0           190.0   \n",
      "3    -122.25     37.85                52.0       1274.0           235.0   \n",
      "4    -122.25     37.85                52.0       1627.0           280.0   \n",
      "\n",
      "   population  households  median_income  median_house_value ocean_proximity  \n",
      "0       322.0       126.0        83252.0            452600.0        NEAR BAY  \n",
      "1      2401.0      1138.0        83014.0            358500.0        NEAR BAY  \n",
      "2       496.0       177.0        72574.0            352100.0        NEAR BAY  \n",
      "3       558.0       219.0        56431.0            341300.0        NEAR BAY  \n",
      "4       565.0       259.0        38462.0            342200.0        NEAR BAY  \n"
     ]
    }
   ],
   "source": [
    "def convert(value):\n",
    "    return value /10000\n",
    "converted_data = data['median_income'].apply(convert)\n",
    "print(converted_data.head())\n",
    "data['median_income'] = converted_data\n",
    "print(data.head())"
   ]
  },
  {
   "cell_type": "code",
   "execution_count": 127,
   "metadata": {},
   "outputs": [
    {
     "name": "stdout",
     "output_type": "stream",
     "text": [
      "0    moderate-income\n",
      "1    moderate-income\n",
      "2    moderate-income\n",
      "3    moderate-income\n",
      "4    moderate-income\n",
      "Name: median_income, dtype: object\n"
     ]
    }
   ],
   "source": [
    "#Data Categorisation\n",
    "def convert_categories(value):\n",
    "    if value>100000 :\n",
    "        return 'high income'\n",
    "    elif value >20000 and value<100000:\n",
    "        return 'moderate-income'\n",
    "    else:\n",
    "        return 'low-incomes'\n",
    "categories = data['median_income'].apply(convert_categories)\n",
    "print(categories.head())"
   ]
  },
  {
   "cell_type": "code",
   "execution_count": 129,
   "metadata": {},
   "outputs": [
    {
     "name": "stdout",
     "output_type": "stream",
     "text": [
      "54402150.0\n",
      "2.0\n"
     ]
    }
   ],
   "source": [
    "#Data Aggregation inbuilt functions\n",
    "summation = data['total_rooms'].sum()\n",
    "minimum =data['total_rooms'].min()\n",
    "print(summation)\n",
    "print(minimum)"
   ]
  },
  {
   "cell_type": "code",
   "execution_count": 131,
   "metadata": {},
   "outputs": [
    {
     "name": "stdout",
     "output_type": "stream",
     "text": [
      "                 population\n",
      "ocean_proximity            \n",
      "<1H OCEAN        13889374.0\n",
      "INLAND            9112744.0\n",
      "ISLAND               3340.0\n",
      "NEAR BAY          2817427.0\n",
      "NEAR OCEAN        3598955.0\n"
     ]
    }
   ],
   "source": [
    "selected_data = ['population','ocean_proximity']\n",
    "filtered_data = data[selected_data]\n",
    "print(filtered_data.groupby('ocean_proximity').sum())"
   ]
  },
  {
   "cell_type": "code",
   "execution_count": null,
   "metadata": {},
   "outputs": [],
   "source": []
  }
 ],
 "metadata": {
  "kernelspec": {
   "display_name": "Python 3",
   "language": "python",
   "name": "python3"
  },
  "language_info": {
   "codemirror_mode": {
    "name": "ipython",
    "version": 3
   },
   "file_extension": ".py",
   "mimetype": "text/x-python",
   "name": "python",
   "nbconvert_exporter": "python",
   "pygments_lexer": "ipython3",
   "version": "3.7.6"
  }
 },
 "nbformat": 4,
 "nbformat_minor": 4
}
