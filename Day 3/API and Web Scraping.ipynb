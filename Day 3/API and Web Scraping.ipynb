{
 "cells": [
  {
   "cell_type": "code",
   "execution_count": 5,
   "metadata": {},
   "outputs": [
    {
     "name": "stdout",
     "output_type": "stream",
     "text": [
      "['cat', ['User:CatcherStorm', 'User:Catfish Jim and the soapdish', 'User:CataracticPlanets', 'User:Catgut', 'User:Catchpole'], ['', '', '', '', ''], ['https://en.wikipedia.org/wiki/User:CatcherStorm', 'https://en.wikipedia.org/wiki/User:Catfish_Jim_and_the_soapdish', 'https://en.wikipedia.org/wiki/User:CataracticPlanets', 'https://en.wikipedia.org/wiki/User:Catgut', 'https://en.wikipedia.org/wiki/User:Catchpole']]\n"
     ]
    }
   ],
   "source": [
    "import requests\n",
    "session = requests.session()\n",
    "URL = \"https://en.wikipedia.org/w/api.php\"\n",
    "\n",
    "PARAMS = {\n",
    "    \"action\": \"opensearch\",\n",
    "    \"namespace\": \"2\",\n",
    "    \"search\": \"cat\",\n",
    "    \"limit\": \"5\",\n",
    "    \"format\": \"json\"\n",
    "}\n",
    "API = session.get(url = URL, params = PARAMS)\n",
    "print(API.json())"
   ]
  },
  {
   "cell_type": "code",
   "execution_count": 1,
   "metadata": {},
   "outputs": [
    {
     "ename": "FileNotFoundError",
     "evalue": "[Errno 2] No such file or directory: 'urls.txt'",
     "output_type": "error",
     "traceback": [
      "\u001b[1;31m---------------------------------------------------------------------------\u001b[0m",
      "\u001b[1;31mFileNotFoundError\u001b[0m                         Traceback (most recent call last)",
      "\u001b[1;32m<ipython-input-1-fd8516ad4863>\u001b[0m in \u001b[0;36m<module>\u001b[1;34m\u001b[0m\n\u001b[0;32m      1\u001b[0m \u001b[1;32mimport\u001b[0m \u001b[0mrequests\u001b[0m\u001b[1;33m\u001b[0m\u001b[1;33m\u001b[0m\u001b[0m\n\u001b[0;32m      2\u001b[0m \u001b[1;32mimport\u001b[0m \u001b[0murllib\u001b[0m\u001b[1;33m.\u001b[0m\u001b[0mrequest\u001b[0m\u001b[1;33m\u001b[0m\u001b[1;33m\u001b[0m\u001b[0m\n\u001b[1;32m----> 3\u001b[1;33m \u001b[0mfile\u001b[0m \u001b[1;33m=\u001b[0m \u001b[0mopen\u001b[0m\u001b[1;33m(\u001b[0m\u001b[1;34m\"urls.txt\"\u001b[0m\u001b[1;33m,\u001b[0m\u001b[1;34m\"r\"\u001b[0m\u001b[1;33m)\u001b[0m\u001b[1;33m\u001b[0m\u001b[1;33m\u001b[0m\u001b[0m\n\u001b[0m\u001b[0;32m      4\u001b[0m \u001b[0mlinks\u001b[0m \u001b[1;33m=\u001b[0m \u001b[0mfile\u001b[0m\u001b[1;33m.\u001b[0m\u001b[0mread\u001b[0m\u001b[1;33m(\u001b[0m\u001b[1;33m)\u001b[0m\u001b[1;33m\u001b[0m\u001b[1;33m\u001b[0m\u001b[0m\n\u001b[0;32m      5\u001b[0m \u001b[0mresultant_link\u001b[0m \u001b[1;33m=\u001b[0m \u001b[0mlinks\u001b[0m\u001b[1;33m.\u001b[0m\u001b[0msplit\u001b[0m\u001b[1;33m(\u001b[0m\u001b[1;34m'\\n'\u001b[0m\u001b[1;33m)\u001b[0m\u001b[1;33m\u001b[0m\u001b[1;33m\u001b[0m\u001b[0m\n",
      "\u001b[1;31mFileNotFoundError\u001b[0m: [Errno 2] No such file or directory: 'urls.txt'"
     ]
    }
   ],
   "source": [
    "import requests\n",
    "import urllib.request\n",
    "file = open(\"urls.txt\",\"r\")\n",
    "links = file.read()\n",
    "resultant_link = links.split('\\n')\n",
    "for i in range(len(resultant_link)):\n",
    "    urllib.request.urlretrieve(resultant_link[i],\"./folder/\"+str(i)+\".png\")"
   ]
  },
  {
   "cell_type": "code",
   "execution_count": null,
   "metadata": {},
   "outputs": [],
   "source": []
  }
 ],
 "metadata": {
  "kernelspec": {
   "display_name": "Python 3",
   "language": "python",
   "name": "python3"
  }
 },
 "nbformat": 4,
 "nbformat_minor": 4
}
